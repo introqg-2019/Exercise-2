{
 "cells": [
  {
   "cell_type": "markdown",
   "metadata": {
    "deletable": false,
    "editable": false,
    "nbgrader": {
     "cell_type": "markdown",
     "checksum": "767183480161f4df6597f52c8699b7cc",
     "grade": false,
     "grade_id": "cell-831414fad4f17ee7",
     "locked": true,
     "schema_version": 3,
     "solution": false
    }
   },
   "source": [
    "# Problem 1: Linear data regression - Detecting changing climate (*8.5 points*)\n",
    "\n",
    "For this problem we will again use the NOAA climate data from Exercises 6 and 7 of the [Geo-Python course](https://geo-python.github.io) with a slight twist.\n",
    "As a reminder, you will be working with a climate data file from the [US National Oceanographic and Atmospheric Administration (NOAA) climate database](https://www.ncdc.noaa.gov/cdo-web/).\n",
    "In order to jump right into things, we have provided you with [a data file that has already been processed](data/seasonal-temps.csv) containing the means and standard deviations of seasonal temperatures (in Celsius) for winter and summer for the years 1953-2019.\n",
    "The first 5 lines of the data file are:\n",
    "\n",
    "```\n",
    "Year,Winter mean,Winter std,Summer mean,Summer std\n",
    "1953,-5.600255,6.126864,16.406055,3.934636\n",
    "1954,-6.244444,6.804128,15.292479,3.890385\n",
    "1955,-4.430118,6.128557,16.218130,5.347337\n",
    "1956,-10.640902,8.521185,14.641628,4.101369\n",
    "```\n",
    "\n",
    "Your task is to load this data and use a least squares regression to fit trendlines to the temperature data.\n",
    "\n",
    "*If you're looking for a challenge, you are welcome to load in the [original data file from Exerise 6 (029740.txt)](https://geo-python.github.io/site/notebooks/L6/advanced-data-processing-with-pandas.html) and process it as was done for Exercises 6 and 7 as a starting point for this problem. As a reminder, the original data file has daily mean, minimum, and maximum temperatures for the Helsinki-Vantaa airport weather station from January 1952-October 2019. Be aware that if you process the data yourself you may get slightly different values for the calculations below.*\n",
    "\n",
    "**Notice**: Closely follow the instructions! For example, you should be sure to use **exactly** the same variable names mentioned in the instructions because your answers will be automatically graded, and the tests that grade your answers rely on following the same formatting or variable naming as in the instructions.\n",
    "\n",
    "**Your score on this problem will be based on following criteria**:\n",
    "\n",
    "- Reading the in the data file for this exercise\n",
    "- Properly converting the linear regressions formulas to a Python function\n",
    "- Calculating the least-squares regression lines for summer and winter, for two different time periods\n",
    "- Plotting your results\n",
    "- Including comments that explain what most lines in the code do\n",
    "- Uploading your notebook to your GitHub repository for this week's exercise"
   ]
  },
  {
   "cell_type": "markdown",
   "metadata": {
    "deletable": false,
    "editable": false,
    "nbgrader": {
     "cell_type": "markdown",
     "checksum": "03d235fed3d4f6630eb903ecceeaf639",
     "grade": false,
     "grade_id": "cell-623bc0391667345b",
     "locked": true,
     "schema_version": 3,
     "solution": false
    }
   },
   "source": [
    "## Part 1: Reading the data file (*1 point*)\n",
    "\n",
    "Your first task is to read in [the data file for this problem](data/seasonal-temps.csv) and split the data into column arrays.\n",
    "\n",
    "- For this, you should use the Pandas `read_csv()` funtion to read in the data file [data/seasonal-temps.csv](data/seasonal-temps.csv) into the variable `data`\n",
    "    - You do not need to skip any rows or specify an index column"
   ]
  },
  {
   "cell_type": "code",
   "execution_count": null,
   "metadata": {
    "deletable": false,
    "nbgrader": {
     "cell_type": "code",
     "checksum": "679e122eff196240216983f868ce6761",
     "grade": false,
     "grade_id": "problem_1_read_data",
     "locked": false,
     "schema_version": 3,
     "solution": true
    }
   },
   "outputs": [],
   "source": [
    "# Import Pandas and NumPy\n",
    "import pandas as pd\n",
    "\n",
    "data = None\n",
    "\n",
    "# YOUR CODE HERE\n",
    "raise NotImplementedError()"
   ]
  },
  {
   "cell_type": "code",
   "execution_count": null,
   "metadata": {
    "deletable": false,
    "editable": false,
    "nbgrader": {
     "cell_type": "code",
     "checksum": "c8e33516d60d52a76c323c4c95a0ac8a",
     "grade": true,
     "grade_id": "problem_1_read_data_tests",
     "locked": true,
     "points": 1,
     "schema_version": 3,
     "solution": false
    }
   },
   "outputs": [],
   "source": [
    "# This test should print the first row of the data file\n",
    "print(\"First row of the DataFrame:\\n\", data.head(1))\n"
   ]
  },
  {
   "cell_type": "markdown",
   "metadata": {
    "deletable": false,
    "editable": false,
    "nbgrader": {
     "cell_type": "markdown",
     "checksum": "94a4367365aeba97524b5d210e544da8",
     "grade": false,
     "grade_id": "cell-635b64c41547c355",
     "locked": true,
     "schema_version": 3,
     "solution": false
    }
   },
   "source": [
    "## Part 2: A linear regression function (*1.5 points*)\n",
    "\n",
    "Your next task in this problem is to create a function that calculates the slopes `B` and *y*-intercepts `A` for [unweighted linear regression lines](https://introqg.github.io/site/lessons/L2/least-squares.html). As you may recall from the lecture slides, `A` and `B` can be calculated as\n",
    "\n",
    "\\begin{equation}\n",
    "  \\Large\n",
    "  A = \\frac{\\sum{x^2} \\sum{y} - \\sum{x} \\sum{x y}}{\\Delta}\n",
    "\\end{equation}\n",
    "\n",
    "and\n",
    "\n",
    "\\begin{equation}\n",
    "  \\Large\n",
    "  B = \\frac{N \\sum{x y} - \\sum{x} \\sum{y}}{\\Delta},\n",
    "\\end{equation}\n",
    "\n",
    "where\n",
    "\n",
    "\\begin{equation}\n",
    "  \\Large\n",
    "  \\Delta = N \\sum{x^2} - \\left(\\sum{x} \\right)^2.\n",
    "\\end{equation}\n",
    "\n",
    "- Create a function `linregress` that returns the slope `B` and *y*-intercept `A` for a regression line to data `x` and `y`.\n",
    "    - **Note**: You can return both `A` and `B` in the same `return` statement by separating the values with a comma"
   ]
  },
  {
   "cell_type": "code",
   "execution_count": null,
   "metadata": {
    "deletable": false,
    "nbgrader": {
     "cell_type": "code",
     "checksum": "8627febd596884beb0c306e881e765f7",
     "grade": false,
     "grade_id": "problem_1_function",
     "locked": false,
     "schema_version": 3,
     "solution": true
    }
   },
   "outputs": [],
   "source": [
    "# Import NumPy in case we want to use it\n",
    "import numpy as np\n",
    "\n",
    "def linregress(x, y):\n",
    "    \"\"\"Returns A, B, the y-intercept and slope of a least squares regression line.\"\"\"\n",
    "# YOUR CODE HERE\n",
    "raise NotImplementedError()"
   ]
  },
  {
   "cell_type": "code",
   "execution_count": null,
   "metadata": {
    "deletable": false,
    "editable": false,
    "nbgrader": {
     "cell_type": "code",
     "checksum": "160b36927fcff6076ec55671472980c5",
     "grade": true,
     "grade_id": "problem_1_function_tests",
     "locked": true,
     "points": 1.5,
     "schema_version": 3,
     "solution": false
    }
   },
   "outputs": [],
   "source": [
    "# These visible tests with fake data should work\n",
    "from nose.tools import ok_, assert_equal\n",
    "\n",
    "# Fake data for linregress tests\n",
    "x1 = np.array([1.0, 2.0])\n",
    "y1 = np.array([1.0, 2.0])\n",
    "x2 = np.array([1.0, 2.0, 2.5, 3.6, 4.2, 5.9])\n",
    "y2 = np.array([1.0, 2.0, 2.7, 3.1, 4.7, 5.7])\n",
    "\n",
    "# Fake line slopes, intercepts\n",
    "a1, b1 = linregress(x1, y1)\n",
    "a2, b2 = linregress(x2, y2)\n",
    "\n",
    "# Print results\n",
    "print(\"Slope and intercept for dataset 1: {0:.4f} and {1:.4f}.\".format(b1, a1))\n",
    "print(\"Slope and intercept for dataset 2: {0:.4f} and {1:.4f}.\".format(b2, a2))\n",
    "\n",
    "# Check that the linregress function works\n",
    "assert_equal(a1, 0.0)\n",
    "assert_equal(b1, 1.0)\n",
    "assert_equal(round(a2, 4), 0.0799)\n",
    "assert_equal(round(b2, 4), 0.975)"
   ]
  },
  {
   "cell_type": "markdown",
   "metadata": {
    "deletable": false,
    "editable": false,
    "nbgrader": {
     "cell_type": "markdown",
     "checksum": "dc631d1103d00af6472780122712db32",
     "grade": false,
     "grade_id": "cell-e014e13b5418c567",
     "locked": true,
     "schema_version": 3,
     "solution": false,
     "task": false
    }
   },
   "source": [
    "## Part 3: Calculating seasonal regression lines (*1.5 points*)\n",
    "\n",
    "Now we can calculate the slopes and y-intercepts for our weather data to determine how summer and winter temperatures have varied over the observation period. We'll do this for two time ranges: The **entire observation period** and the **last 20 years (2000-2019)**.\n",
    "\n",
    "- Use your `linregress` function to calculate the slopes and intercepts for summer and winter for the time periods mentioned above (the entire range of years, and 2000-2019).\n",
    "You should name these values as follows:\n",
    "    - Entire range of years: `A_winter` and `B_winter` for winter, `A_summer` and `B_summer` for summer\n",
    "    - Last 20 years: `A_winter20` and `B_winter20` for winter, `A_summer20` and `B_summer20` for summer\n",
    "\n",
    "**Hint**: In this problem, `x` will be your time data, and `y` will be your temperatures."
   ]
  },
  {
   "cell_type": "code",
   "execution_count": null,
   "metadata": {
    "deletable": false,
    "nbgrader": {
     "cell_type": "code",
     "checksum": "2057a61c4598eb050d1478be0a0e3d3f",
     "grade": false,
     "grade_id": "problem_1_season_calc",
     "locked": false,
     "schema_version": 3,
     "solution": true,
     "task": false
    }
   },
   "outputs": [],
   "source": [
    "# Your calculations go below.\n",
    "# Note: Replace both of the 'None' values with a single call of linregress()\n",
    "A_winter, B_winter = None, None\n",
    "A_summer, B_summer = None, None\n",
    "A_winter20, B_winter20 = None, None\n",
    "A_summer20, B_summer20 = None, None\n",
    "\n",
    "# YOUR CODE HERE\n",
    "raise NotImplementedError()"
   ]
  },
  {
   "cell_type": "code",
   "execution_count": null,
   "metadata": {
    "deletable": false,
    "editable": false,
    "nbgrader": {
     "cell_type": "code",
     "checksum": "9964ae97a34d0624dd6dfa9544fa14f5",
     "grade": true,
     "grade_id": "problem_1_season_calc_variable_tests",
     "locked": true,
     "points": 0.5,
     "schema_version": 3,
     "solution": false,
     "task": false
    }
   },
   "outputs": [],
   "source": [
    "# This test should work\n",
    "print(\"Winter (all years) slope {0:.4f} and intercept {1:.1f} should be 0.0451 and -94.5.\".format(B_winter, A_winter))\n"
   ]
  },
  {
   "cell_type": "code",
   "execution_count": null,
   "metadata": {
    "deletable": false,
    "editable": false,
    "nbgrader": {
     "cell_type": "code",
     "checksum": "3639afe1684a79495ee0f3350295d22f",
     "grade": true,
     "grade_id": "problem_1_season_calc_value_tests",
     "locked": true,
     "points": 1,
     "schema_version": 3,
     "solution": false,
     "task": false
    }
   },
   "outputs": [],
   "source": [
    "# This test should work\n",
    "print(\"Summer (last 20 years) slope {0:.4f} and intercept {1:.1f} should be 0.0028 and 11.1.\".format(B_summer20, A_summer20))\n"
   ]
  },
  {
   "cell_type": "markdown",
   "metadata": {
    "deletable": false,
    "editable": false,
    "nbgrader": {
     "cell_type": "markdown",
     "checksum": "b422f54732262935c944cca9a4794877",
     "grade": false,
     "grade_id": "cell-d54feb83f47b84a6",
     "locked": true,
     "schema_version": 3,
     "solution": false
    }
   },
   "source": [
    "## Part 4: Plotting your results (*4.5 points*)\n",
    "\n",
    "Your last coding task for this problem is to create some plots of your seasonal temperature data and their trendlines.\n",
    "An example of the types of plots you should create are below.\n",
    "**Note**: You should create separate plots, not use subplots as shown in the example below.\n",
    "\n",
    "![Temperature trends in Helsinki](img/temp-slopes.png)\n",
    "\n",
    "- Create 2 plots of the seasonal temperature data: (**1**) one for the entire time covered in the data and (**2**) another for the last 20 years of data\n",
    "    - Plot the seasonal average temperature data as a Pandas scatter plot with error bars showing the standard deviation in seasonal temperature\n",
    "    - Also plot the regression lines for each season as well to compare to the yearly temperature data. You may want to consult [the hints for this week's exercise](https://introqg.github.io/qg/lessons/L2/exercise-2.html) about how to plot the regression lines.\n",
    "    - Plot the temperature data for both seasons on the same plot, using a warm color (e.g., red) for summer and a cool color (e.g., blue) for winter. You can find some convenient color names you can use in the [Matplotlib documentation online](https://matplotlib.org/3.1.0/gallery/color/named_colors.html).\n",
    "    - Be sure to set the figure size to be slightly larger, as was done in Exercise 1\n",
    "- Include axis labels, a title and a legend for each plot, as well as text displaying the slope of the regression lines for both the summer and winter seasons\n",
    "    - If your plot legend is empty, be sure that you have a label included for the scatter plot for each season with the text name of that season\n",
    "- Add figure captions in the Markdown cell below each Python cell for your plots that describe the plots as if they were in a scientific journal article"
   ]
  },
  {
   "cell_type": "code",
   "execution_count": null,
   "metadata": {
    "deletable": false,
    "nbgrader": {
     "cell_type": "code",
     "checksum": "85530dd95d8e9e9690aabb87522e1781",
     "grade": true,
     "grade_id": "plot_all",
     "locked": false,
     "points": 1.5,
     "schema_version": 3,
     "solution": true
    }
   },
   "outputs": [],
   "source": [
    "# Plot for all years goes here\n",
    "\n",
    "%matplotlib inline\n",
    "\n",
    "ax = None\n",
    "\n",
    "# YOUR CODE HERE\n",
    "raise NotImplementedError()"
   ]
  },
  {
   "cell_type": "markdown",
   "metadata": {
    "deletable": false,
    "nbgrader": {
     "cell_type": "markdown",
     "checksum": "0c363c0cde1e5abae9d3e8e26ee3cb8d",
     "grade": true,
     "grade_id": "plot_all_caption",
     "locked": false,
     "points": 0.5,
     "schema_version": 3,
     "solution": true
    }
   },
   "source": [
    "YOUR ANSWER HERE"
   ]
  },
  {
   "cell_type": "code",
   "execution_count": null,
   "metadata": {
    "deletable": false,
    "nbgrader": {
     "cell_type": "code",
     "checksum": "6806d159280377ecae044969c314e0d3",
     "grade": true,
     "grade_id": "plot_20",
     "locked": false,
     "points": 2,
     "schema_version": 3,
     "solution": true
    }
   },
   "outputs": [],
   "source": [
    "# Plot for last 20 years goes here\n",
    "\n",
    "ax2 = None\n",
    "\n",
    "# YOUR CODE HERE\n",
    "raise NotImplementedError()"
   ]
  },
  {
   "cell_type": "markdown",
   "metadata": {
    "deletable": false,
    "nbgrader": {
     "cell_type": "markdown",
     "checksum": "2cbebb90660d3c0f086abe499655cf01",
     "grade": true,
     "grade_id": "plot_20_caption",
     "locked": false,
     "points": 0.5,
     "schema_version": 3,
     "solution": true
    }
   },
   "source": [
    "YOUR ANSWER HERE"
   ]
  },
  {
   "cell_type": "markdown",
   "metadata": {
    "deletable": false,
    "editable": false,
    "nbgrader": {
     "cell_type": "markdown",
     "checksum": "f42fe39d153273b8061f6512ae49c6b1",
     "grade": false,
     "grade_id": "cell-6850ec8b78f8b9a4",
     "locked": true,
     "schema_version": 3,
     "solution": false,
     "task": false
    }
   },
   "source": [
    "# Problem 2 - Linear correlation: Is a line a good fit for our data? (*6 points*)\n",
    "\n",
    "In Problem 1 we used least squares regressions to calculate lines that best fit our data. One thing we did not consider, however, was whether a line was a suitable model for our data. To consider this another way, we could ask ourselves how well do our data plot on a line? This question will be the focus of Problem 2, where we will calculate the linear correlation coefficient $r$ to explore how well our data fall on a line. Notably, in doing this we will *not* consider the standard deviations in our seasonal temperatures, only the mean values for the different seasons.\n",
    "\n",
    "**Notice**: Closely follow the instructions! For example, you should be sure to use **exactly** the same variable names mentioned in the instructions because your answers will be automatically graded, and the tests that grade your answers rely on following the same formatting or variable naming as in the instructions.\n",
    "\n",
    "**Your score on this problem will be based on following criteria**:\n",
    "\n",
    "- Properly converting the linear correlation coefficient formula to a Python function\n",
    "- Calculating linear corelation coefficients for summer and winter and for the two different time periods\n",
    "- Plotting your results\n",
    "- Including comments that explain what most lines in the code do\n",
    "- Uploading your notebook to your GitHub repository for this week's exercise"
   ]
  },
  {
   "cell_type": "markdown",
   "metadata": {
    "deletable": false,
    "editable": false,
    "nbgrader": {
     "cell_type": "markdown",
     "checksum": "a30864bdce2107b7b26f35620d33c286",
     "grade": false,
     "grade_id": "cell-56b31de6ee98b3bb",
     "locked": true,
     "schema_version": 3,
     "solution": false,
     "task": false
    }
   },
   "source": [
    "## Part 1: A correlation coefficient function (*1.5 points*)\n",
    "\n",
    "As we have seen in this week's lesson, the correlation coefficient $r$ can be used to determine how well two variables are linearly correlated with one another. In other words, how well does a line relate the two. Mathematically, we can define the correlation coefficient $r$ as\n",
    "\n",
    "\\begin{equation}\n",
    "  \\Large\n",
    "  r = \\frac{\\sum{\\left(x_{i} - \\bar{x} \\right)\\left(y_{i} - \\bar{y} \\right)}}{\\sqrt{\\sum{\\left(x_{i} - \\bar{x} \\right)^2} \\sum{\\left(y_{i} - \\bar{y} \\right)^2}}},\n",
    "\\end{equation}\n",
    "\n",
    "where $x_{i}$ is the $i$th value along the $x$-axis, $\\bar{x}$ is the mean of the values on the $x$-axis, and similarly for the values of $y$.\n",
    "\n",
    "Your task in this part of the problem is to make a function for calculating $r$.\n",
    "\n",
    "- Create a function `pearson()` that returns the correlation coefficient $r$ between two variables `x` and `y`"
   ]
  },
  {
   "cell_type": "code",
   "execution_count": null,
   "metadata": {
    "deletable": false,
    "nbgrader": {
     "cell_type": "code",
     "checksum": "87d73a4db304cb8ee9d50ee93d93cb5c",
     "grade": false,
     "grade_id": "problem_2_function",
     "locked": false,
     "schema_version": 3,
     "solution": true,
     "task": false
    }
   },
   "outputs": [],
   "source": [
    "def pearson(x, y):\n",
    "    \"\"\"Returns the linear correlation coefficient for two arrays.\"\"\"\n",
    "# YOUR CODE HERE\n",
    "raise NotImplementedError()"
   ]
  },
  {
   "cell_type": "code",
   "execution_count": null,
   "metadata": {
    "deletable": false,
    "editable": false,
    "nbgrader": {
     "cell_type": "code",
     "checksum": "87c7ab6396e833a84754cb4253394452",
     "grade": true,
     "grade_id": "problem_2_function_tests",
     "locked": true,
     "points": 1.5,
     "schema_version": 3,
     "solution": false,
     "task": false
    }
   },
   "outputs": [],
   "source": [
    "# These visible tests with fake data should work\n",
    "from nose.tools import ok_, assert_equal\n",
    "\n",
    "# Fake data for pearson tests\n",
    "x1 = np.array([1.0, 2.0, 3.0])\n",
    "y1 = np.array([1.0, 2.0, 2.1])\n",
    "x2 = np.array([1.0, 2.0, 2.5, 3.6, 4.2, 5.9])\n",
    "y2 = np.array([5.7, 4.2, 3.6, 5.4, 2.0, 1.0])\n",
    "\n",
    "# Fake correlation coefficients\n",
    "r1 = pearson(x1, y1)\n",
    "r2 = pearson(x2, y2)\n",
    "\n",
    "# Print results\n",
    "print(\"Correlation coefficient for dataset 1: {0:.4f}.\".format(r1))\n",
    "print(\"Correlation coefficient for dataset 2: {0:.4f}.\".format(r2))\n",
    "\n",
    "# Check that the pearson function works\n",
    "assert_equal(round(r1, 4), 0.9042)\n",
    "assert_equal(round(r2, 4), -0.8156)"
   ]
  },
  {
   "cell_type": "markdown",
   "metadata": {
    "deletable": false,
    "editable": false,
    "nbgrader": {
     "cell_type": "markdown",
     "checksum": "d5b5a62e31f07520486ea397ab12607a",
     "grade": false,
     "grade_id": "cell-e3d136273661ea67",
     "locked": true,
     "schema_version": 3,
     "solution": false,
     "task": false
    }
   },
   "source": [
    "## Part 2: Calculating correlation coefficients (*1.5 points*)\n",
    "\n",
    "Next, we can calculate the correlation coefficients for our weather data.\n",
    "\n",
    "- Calculate correlation coefficients for the summer and winter and for both time ranges (the entire range of years, and 2000-2019) using your `pearson()` function.\n",
    "You should name these values as follows:\n",
    "    - Entire range of years: `r_winter` for winter and `r_summer` for summer\n",
    "    - Last 20 years: `r_winter20` for winter, `r_summer20` for summer"
   ]
  },
  {
   "cell_type": "code",
   "execution_count": null,
   "metadata": {
    "deletable": false,
    "nbgrader": {
     "cell_type": "code",
     "checksum": "090e0acc7773876e6a360976035f2c5a",
     "grade": false,
     "grade_id": "problem_2_r",
     "locked": false,
     "schema_version": 3,
     "solution": true,
     "task": false
    }
   },
   "outputs": [],
   "source": [
    "r_winter = None\n",
    "r_summer = None\n",
    "r_winter20 = None\n",
    "r_summer20 = None\n",
    "\n",
    "# YOUR CODE HERE\n",
    "raise NotImplementedError()"
   ]
  },
  {
   "cell_type": "code",
   "execution_count": null,
   "metadata": {
    "deletable": false,
    "editable": false,
    "nbgrader": {
     "cell_type": "code",
     "checksum": "63c56e9b41419c496585899d5bf91087",
     "grade": true,
     "grade_id": "problem_2_r_variable_tests",
     "locked": true,
     "points": 0.5,
     "schema_version": 3,
     "solution": false,
     "task": false
    }
   },
   "outputs": [],
   "source": [
    "# This test should work\n",
    "print('Your winter (all years) correlation coefficient is {0:.4f} and should be 0.3145.'.format(r_winter))\n"
   ]
  },
  {
   "cell_type": "code",
   "execution_count": null,
   "metadata": {
    "deletable": false,
    "editable": false,
    "nbgrader": {
     "cell_type": "code",
     "checksum": "773e542c23eccc80e1fc1e9683a47a5c",
     "grade": true,
     "grade_id": "problem_2_r_value_test",
     "locked": true,
     "points": 1,
     "schema_version": 3,
     "solution": false,
     "task": false
    }
   },
   "outputs": [],
   "source": [
    "# This test should work\n",
    "print('Your summer (last 20 years) correlation coefficient is {0:.4f} and should be 0.0148.'.format(r_summer20))\n"
   ]
  },
  {
   "cell_type": "markdown",
   "metadata": {
    "deletable": false,
    "editable": false,
    "nbgrader": {
     "cell_type": "markdown",
     "checksum": "206c20c07d0e48c21a2856b617ca9444",
     "grade": false,
     "grade_id": "cell-91103535d6ea8ab4",
     "locked": true,
     "schema_version": 3,
     "solution": false,
     "task": false
    }
   },
   "source": [
    "## Part 3: Plotting your results, round 2 (*3 points*)\n",
    "\n",
    "Now we can generate a pair of plots showing the data along with the calculated $r$ values.\n",
    "\n",
    "- Create 2 plots of the seasonal temperature data: (**1**) one for the entire time covered in the data and (**2**) another for the last 20 years of data\n",
    "    - Plot the seasonal average temperature data as a Pandas scatter plot **without** error bars for the standard deviation in seasonal temperature\n",
    "    - Also include the regression lines for each season from Problem 1 to compare to the yearly temperature data. You may want to consult [the hints for this week's exercise](https://introqg.github.io/qg/lessons/L2/exercise-2.html) about how to plot the regression lines.\n",
    "    - Plot the temperature data for both seasons on the same plot, using a warm color (e.g., red) for summer and a cool color (e.g., blue) for winter. You can find some convenient color names you can use in the [Matplotlib documentation online](https://matplotlib.org/3.1.0/gallery/color/named_colors.html).\n",
    "    - Be sure to set the figure size to be slightly larger, as was done in Exercise 1\n",
    "- Include axis labels, a title and a legend for each plot, as well as text displaying the correlation coefficients for both the summer and winter seasons\n",
    "    - If your plot legend is empty, be sure that you have a label included for the scatter plot for each season with the text name of that season\n",
    "- Add figure captions in the Markdown cell below each Python cell for your plots that describe the plots as if they were in a scientific journal article"
   ]
  },
  {
   "cell_type": "code",
   "execution_count": null,
   "metadata": {
    "deletable": false,
    "nbgrader": {
     "cell_type": "code",
     "checksum": "0547d05fc2d47539e4a8b0bbb2565d8d",
     "grade": true,
     "grade_id": "cell-75f0a82446eca8e0",
     "locked": false,
     "points": 1,
     "schema_version": 3,
     "solution": true,
     "task": false
    }
   },
   "outputs": [],
   "source": [
    "# Plot for all years goes here\n",
    "\n",
    "ax3 = None\n",
    "\n",
    "# YOUR CODE HERE\n",
    "raise NotImplementedError()"
   ]
  },
  {
   "cell_type": "markdown",
   "metadata": {
    "deletable": false,
    "nbgrader": {
     "cell_type": "markdown",
     "checksum": "754353bbae158d43990506e59b08795d",
     "grade": true,
     "grade_id": "cell-9bb5a36697760600",
     "locked": false,
     "points": 0.5,
     "schema_version": 3,
     "solution": true,
     "task": false
    }
   },
   "source": [
    "YOUR ANSWER HERE"
   ]
  },
  {
   "cell_type": "code",
   "execution_count": null,
   "metadata": {
    "deletable": false,
    "nbgrader": {
     "cell_type": "code",
     "checksum": "bfc926d7d78705f6df24de99051f1739",
     "grade": true,
     "grade_id": "cell-189ce63a6ebf24c8",
     "locked": false,
     "points": 1,
     "schema_version": 3,
     "solution": true,
     "task": false
    }
   },
   "outputs": [],
   "source": [
    "# Plot for the last 20 years goes here\n",
    "\n",
    "ax4 = None\n",
    "\n",
    "# YOUR CODE HERE\n",
    "raise NotImplementedError()"
   ]
  },
  {
   "cell_type": "markdown",
   "metadata": {
    "deletable": false,
    "nbgrader": {
     "cell_type": "markdown",
     "checksum": "0375d23a1d647c7de60f6054b2e2f694",
     "grade": true,
     "grade_id": "cell-ee93edb197c1ecc6",
     "locked": false,
     "points": 0.5,
     "schema_version": 3,
     "solution": true,
     "task": false
    }
   },
   "source": [
    "YOUR ANSWER HERE"
   ]
  },
  {
   "cell_type": "markdown",
   "metadata": {
    "deletable": false,
    "editable": false,
    "nbgrader": {
     "cell_type": "markdown",
     "checksum": "78c32aa178be7c6f7cbaa76ff157dfd4",
     "grade": false,
     "grade_id": "cell-078abcdc4257fb89",
     "locked": true,
     "schema_version": 3,
     "solution": false,
     "task": false
    }
   },
   "source": [
    "## Problem 3: Calculating a goodness-of-fit (*3.5 points*)\n",
    "\n",
    "The final part of the exercise this week is to calculate a goodness-of-fit for the lines fit to the data in Problem 1. The idea here is to consider that we have an expected value of the temperature based on our least-squares regressions, and we can see how well those expected values fit within the standard deviation of the seasonal temperatures.\n",
    "\n",
    "**Notice**: Closely follow the instructions! For example, you should be sure to use **exactly** the same variable names mentioned in the instructions because your answers will be automatically graded, and the tests that grade your answers rely on following the same formatting or variable naming as in the instructions.\n",
    "\n",
    "**Your score on this problem will be based on following criteria**:\n",
    "\n",
    "- Properly converting the goodness-of-fit formula to a Python function\n",
    "- Calculating goodness-of-fit values for summer and winter and for the two different time periods\n",
    "- Including comments that explain what most lines in the code do\n",
    "- Uploading your notebook to your GitHub repository for this week's exercise"
   ]
  },
  {
   "cell_type": "markdown",
   "metadata": {
    "deletable": false,
    "editable": false,
    "nbgrader": {
     "cell_type": "markdown",
     "checksum": "80dad30ab2d148cf48396e80f6b28ba1",
     "grade": false,
     "grade_id": "cell-78e23624db7b4962",
     "locked": true,
     "schema_version": 3,
     "solution": false,
     "task": false
    }
   },
   "source": [
    "## Part 1: A goodness-of-fit function (*1.5 points*)\n",
    "\n",
    "We can start by creating a function to calculate the goodness-of-fit. For this, you can use the reduced chi-squared equation,\n",
    "\n",
    "\\begin{equation}\n",
    "  \\Large\n",
    "  \\chi^{2} = \\frac{1}{N} \\sum \\frac{(O_{i} - E_{i})^{2}}{\\sigma_{i}^2}\n",
    "\\end{equation}\n",
    "\n",
    "where $N$ is the number of ages, $O_{i}$ is the $i$th observed value, $E_{i}$ is the $i$th expected value, and $\\sigma_{i}$ is the $i$th standard deviation.\n",
    "\n",
    "For this part you should:\n",
    "\n",
    "- Create a function called `chi_squared` that can be used to calculate the reduced chi-squared value"
   ]
  },
  {
   "cell_type": "code",
   "execution_count": null,
   "metadata": {
    "deletable": false,
    "nbgrader": {
     "cell_type": "code",
     "checksum": "820b7d7c1b118f40139281c8d176636d",
     "grade": false,
     "grade_id": "problem_3_function",
     "locked": false,
     "schema_version": 3,
     "solution": true,
     "task": false
    }
   },
   "outputs": [],
   "source": [
    "def chi_squared(observed, expected, std):\n",
    "    \"\"\"Returns the reduced chi-squared value for input array data.\"\"\"\n",
    "# YOUR CODE HERE\n",
    "raise NotImplementedError()"
   ]
  },
  {
   "cell_type": "code",
   "execution_count": null,
   "metadata": {
    "deletable": false,
    "editable": false,
    "nbgrader": {
     "cell_type": "code",
     "checksum": "f528493afeb074797df8f1aca7022252",
     "grade": true,
     "grade_id": "problem_3_function_tests",
     "locked": true,
     "points": 1.5,
     "schema_version": 3,
     "solution": false,
     "task": false
    }
   },
   "outputs": [],
   "source": [
    "# These visible tests with fake data should work\n",
    "from nose.tools import ok_, assert_equal\n",
    "\n",
    "# Fake data\n",
    "obs1 = np.array([1.1, 2.9, 2.6, 3.5, 5.7, 2.8])\n",
    "exp1 = np.array([1.5, 2.4, 3.6, 1.5, 6.7, 2.6])\n",
    "std1 = np.array([0.5, 1.4, 0.6, 1.5, 0.7, 1.0])\n",
    "\n",
    "obs2 = np.array([1.8, 2.3, 2.2, 3.9, 5.5, 2.4])\n",
    "exp2 = np.array([1.2, 2.0, 3.9, 1.7, 6.1, 2.9])\n",
    "std2 = np.array([0.2, 0.4, 1.6, 2.5, 0.5, 0.3])\n",
    "\n",
    "# Fake goodness-of-fit values\n",
    "cs1 = chi_squared(obs1, exp1, std1)\n",
    "cs2 = chi_squared(obs2, exp2, std2)\n",
    "\n",
    "# Print results\n",
    "print(\"Goodness-of-fit for dataset 1: {0:.4f}.\".format(cs1))\n",
    "print(\"Goodness-of-fit for dataset 2: {0:.4f}.\".format(cs2))\n",
    "\n",
    "# Check that the chi-squared function works\n",
    "assert_equal(round(cs1, 4), 1.2340)\n",
    "assert_equal(round(cs2, 4), 2.6139)"
   ]
  },
  {
   "cell_type": "markdown",
   "metadata": {
    "deletable": false,
    "editable": false,
    "nbgrader": {
     "cell_type": "markdown",
     "checksum": "9fd0e1ccfcf21b8e40e52a7e44dbf2c5",
     "grade": false,
     "grade_id": "cell-93543a9877453a0c",
     "locked": true,
     "schema_version": 3,
     "solution": false,
     "task": false
    }
   },
   "source": [
    "## Part 2: Calculating goodness-of-fit (*2 points*)\n",
    "\n",
    "Next, we can calculate the goodness-of-fit for each point along our line and the corresponding observed seasonal mean temperaure. We will do this by first creating arrays of expected temperature values for each season and time period, and then calculating the goodness-of-fit between those expected values and the observed temperatures.\n",
    "\n",
    "- Create 4 arrays that contain the expected temperature value for each year based on the equation for the regression lines calculated in Problem 1\n",
    "    - The variables `exp_winter` and `exp_summer` can be used for all years, while `exp_winter20` and `exp_summer20` can be used for the last 20 years\n",
    "- Calculate the goodness-of-fit between the expected values and the observed mean seasonal temperatures\n",
    "    - The variables `gof_winter` and `gof_summer` can be used for all years, while `gof_winter20` and `gof_summer20` can be used for the last 20 years"
   ]
  },
  {
   "cell_type": "code",
   "execution_count": null,
   "metadata": {
    "deletable": false,
    "nbgrader": {
     "cell_type": "code",
     "checksum": "d464a970c4090bb8610ac5d5a6a13751",
     "grade": false,
     "grade_id": "problem_3_values",
     "locked": false,
     "schema_version": 3,
     "solution": true,
     "task": false
    }
   },
   "outputs": [],
   "source": [
    "# Expected temperatures based on least-squares regression in Problem 1\n",
    "exp_winter = None\n",
    "exp_summer = None\n",
    "exp_winter20 = None\n",
    "exp_summer20 = None\n",
    "\n",
    "# Goodness-of-fit values\n",
    "gof_winter = None\n",
    "gof_summer = None\n",
    "gof_winter20 = None\n",
    "gof_summer20 = None\n",
    "\n",
    "# YOUR CODE HERE\n",
    "raise NotImplementedError()"
   ]
  },
  {
   "cell_type": "code",
   "execution_count": null,
   "metadata": {
    "deletable": false,
    "editable": false,
    "nbgrader": {
     "cell_type": "code",
     "checksum": "42efea4b0c61d7741d394336aac1c3c5",
     "grade": true,
     "grade_id": "problem_3_values_tests1",
     "locked": true,
     "points": 1,
     "schema_version": 3,
     "solution": false,
     "task": false
    }
   },
   "outputs": [],
   "source": [
    "# This test should work\n",
    "print('My last expected winter temperature is {0:.4f} and should be -3.4019.'.format(exp_winter[-1]))\n"
   ]
  },
  {
   "cell_type": "code",
   "execution_count": null,
   "metadata": {
    "deletable": false,
    "editable": false,
    "nbgrader": {
     "cell_type": "code",
     "checksum": "e7b8da71ef4f0b6e309176aa5e7e80ab",
     "grade": true,
     "grade_id": "problem_3_values_tests2",
     "locked": true,
     "points": 1,
     "schema_version": 3,
     "solution": false,
     "task": false
    }
   },
   "outputs": [],
   "source": [
    "# This test should work\n",
    "print('My summer (all years) goodness-of-fit is {0:.4f} and should be 0.0653.'.format(gof_summer))\n"
   ]
  },
  {
   "cell_type": "code",
   "execution_count": null,
   "metadata": {
    "deletable": false,
    "editable": false,
    "nbgrader": {
     "cell_type": "code",
     "checksum": "932c254701d6916f973f63ce9d4aaed4",
     "grade": false,
     "grade_id": "cell-8f125f97726bfce5",
     "locked": true,
     "schema_version": 3,
     "solution": false,
     "task": false
    }
   },
   "outputs": [],
   "source": [
    "# Run this cell to print all of your calculated goodness-of-fit values\n",
    "print('My winter goodness-of-fit values:\\n    All years:     {0:.4f}\\n    Last 20 years: {1:.4f}\\n'.format(gof_winter, gof_winter20))\n",
    "print('My summer goodness-of-fit values:\\n    All years:     {0:.4f}\\n    Last 20 years: {1:.4f}'.format(gof_summer, gof_summer20))"
   ]
  },
  {
   "cell_type": "markdown",
   "metadata": {
    "deletable": false,
    "editable": false,
    "nbgrader": {
     "cell_type": "markdown",
     "checksum": "6518be137eec3be2ac4b13d261b72813",
     "grade": false,
     "grade_id": "cell-87820fee32bff471",
     "locked": true,
     "schema_version": 3,
     "solution": false,
     "task": false
    }
   },
   "source": [
    "# Summary questions for Exercise 2 (*2 points; 0.5 points each*)\n",
    "\n",
    "Answer the questions below in a few sentences.\n",
    "\n",
    "1. Based on the least-squares regressions calculated in Problem 1, how have summer and winter temperatures changed in Helsinki over the time 1953-2019? Is the trend similar for both seasons? What about when you consider only the data over the last 20 years? Do you have any first-hand experience that relates to these temperature trends? If so, what?\n",
    "2. Based on the calculation of the correlation coefficients in Problem 2, how well does it seem the data are fit by a line? Are there any significant differences between seasons or time periods in the calculated $r$ values?\n",
    "3. Looking at the goodness-of-fit values calculated in Problem 3, how well does it appear the data are fit by a regression line? Do you see differences between seasons ot time period considered? \n",
    "4. Comparing the calculated $\\chi^{2}$ values from Problem 3 to the $r$ values in Problem 2, what differences do you see in the numbers between seasons and/or time periods? Can you think of reasons why the $r$ and $\\chi^{2}$ values might differ in terms of their relative values in each season/time period? How are the $r$ and $\\chi^{2}$ values different in terms of what they measure?"
   ]
  },
  {
   "cell_type": "markdown",
   "metadata": {
    "deletable": false,
    "nbgrader": {
     "cell_type": "markdown",
     "checksum": "6e56b7d6efd7a4896ee6be84c91e0d2d",
     "grade": true,
     "grade_id": "summary_questions",
     "locked": false,
     "points": 2,
     "schema_version": 3,
     "solution": true
    }
   },
   "source": [
    "YOUR ANSWER HERE"
   ]
  }
 ],
 "metadata": {
  "kernelspec": {
   "display_name": "Python 3",
   "language": "python",
   "name": "python3"
  },
  "language_info": {
   "codemirror_mode": {
    "name": "ipython",
    "version": 3
   },
   "file_extension": ".py",
   "mimetype": "text/x-python",
   "name": "python",
   "nbconvert_exporter": "python",
   "pygments_lexer": "ipython3",
   "version": "3.7.4"
  }
 },
 "nbformat": 4,
 "nbformat_minor": 2
}
